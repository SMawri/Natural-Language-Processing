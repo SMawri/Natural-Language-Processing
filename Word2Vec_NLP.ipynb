{
 "cells": [
  {
   "cell_type": "code",
   "execution_count": 4,
   "metadata": {},
   "outputs": [],
   "source": [
    "import nltk\n",
    "import re"
   ]
  },
  {
   "cell_type": "code",
   "execution_count": 5,
   "metadata": {},
   "outputs": [],
   "source": [
    "from gensim.models import Word2Vec\n",
    "from nltk.corpus import stopwords"
   ]
  },
  {
   "cell_type": "code",
   "execution_count": 6,
   "metadata": {},
   "outputs": [],
   "source": [
    "paragraph=\"\"\"I have three visions of India. In 3000 years of our history, people from all over the world have come and invaded us, captured our lands, conquered our minds. From Alexander onwards, the Greeks, the Turks, the Moguls, the Portuguese, the British, the French, the Dutch, all of them came and looted us, took over what was ours. Yet, we have not done this to any other nation. We have not conquered anyone. We have not grabbed their land, their culture, their history and tried to enforce our way of life on them. Why? Because we respect the freedom of others. That is why my first vision is that of FREEDOM.I believe that India got its first vision of this in 1857, when we started the war of Independence. It is this freedom that we must protect and nurture and build on. If we are not free, no one will respect us. My second vision for India’s DEVELOPMENT. For fifty years we have been a developing nation. It is time we see ourselves as a developed nation. We are among top five nations of the world in terms of GDP. We have 10 per cent growth rate in most areas. Our poverty levels are falling. Our achievements are being globally recognised today. Yet we lack the self-confidence to see ourselves as a developed nation, self-reliant and self-assured. Isn’t this incorrect? I have a THIRD vision. India must stand up to the world. Because I believe that, unless India stands up to the world, no one will respect us. Only strength respects strength. We must be strong not only as a military power but also as an economic power. Both must go hand-in-hand.\n",
    "My good fortune was to have worked with three great minds. Dr. Vikram Sarabhai of the Department of Space, Professor Satish Dhawan, who succeeded him and Dr.Brahm Prakash, the father of nuclear material. I was lucky to have worked with all three of them closely and consider this the great opportunity of my life.I see four milestones in my career:\"\"\"\n"
   ]
  },
  {
   "cell_type": "code",
   "execution_count": 18,
   "metadata": {},
   "outputs": [
    {
     "data": {
      "text/plain": [
       "'i have three visions of india. in      years of our history, people from all over the world have come and invaded us, captured our lands, conquered our minds. from alexander onwards, the greeks, the turks, the moguls, the portuguese, the british, the french, the dutch, all of them came and looted us, took over what was ours. yet, we have not done this to any other nation. we have not conquered anyone. we have not grabbed their land, their culture, their history and tried to enforce our way of life on them. why? because we respect the freedom of others. that is why my first vision is that of freedom.i believe that india got its first vision of this in     , when we started the war of independence. it is this freedom that we must protect and nurture and build on. if we are not free, no one will respect us. my second vision for india’s development. for fifty years we have been a developing nation. it is time we see ourselves as a developed nation. we are among top five nations of the world in terms of gdp. we have    per cent growth rate in most areas. our poverty levels are falling. our achievements are being globally recognised today. yet we lack the self-confidence to see ourselves as a developed nation, self-reliant and self-assured. isn’t this incorrect? i have a third vision. india must stand up to the world. because i believe that, unless india stands up to the world, no one will respect us. only strength respects strength. we must be strong not only as a military power but also as an economic power. both must go hand-in-hand. my good fortune was to have worked with three great minds. dr. vikram sarabhai of the department of space, professor satish dhawan, who succeeded him and dr.brahm prakash, the father of nuclear material. i was lucky to have worked with all three of them closely and consider this the great opportunity of my life.i see four milestones in my career:'"
      ]
     },
     "execution_count": 18,
     "metadata": {},
     "output_type": "execute_result"
    }
   ],
   "source": [
    "# Preprocessing the data\n",
    "text=re.sub(r'\\[[0-9]*\\]',' ',paragraph) ## removing unwanted words\n",
    "text=re.sub(r'\\s+',' ',text) ## removing spaces\n",
    "text=text.lower() ## convert it into lowercase\n",
    "text=re.sub(r'\\d',' ',text)\n",
    "text=re.sub(r'\\s',' ',text)\n",
    "text"
   ]
  },
  {
   "cell_type": "code",
   "execution_count": 21,
   "metadata": {},
   "outputs": [],
   "source": [
    "# preparing the dataset\n",
    "sentences=nltk.sent_tokenize(text)"
   ]
  },
  {
   "cell_type": "code",
   "execution_count": 22,
   "metadata": {},
   "outputs": [],
   "source": [
    "sentences= [nltk.word_tokenize(sentence) for sentence in sentences]\n"
   ]
  },
  {
   "cell_type": "code",
   "execution_count": 24,
   "metadata": {},
   "outputs": [],
   "source": [
    "for i in range(len(sentences)):\n",
    "    sentences[i]=[word for word in sentences[i] if word not in stopwords.words('english')]\n"
   ]
  },
  {
   "cell_type": "code",
   "execution_count": 25,
   "metadata": {},
   "outputs": [],
   "source": [
    "# Training the Word2Vec Model\n",
    "model=Word2Vec(sentences,min_count=1) # skip the words where the count is 1"
   ]
  },
  {
   "cell_type": "code",
   "execution_count": 26,
   "metadata": {},
   "outputs": [],
   "source": [
    "words=model.wv.vocab ## Store the words from vocabilary into the variable"
   ]
  },
  {
   "cell_type": "code",
   "execution_count": 27,
   "metadata": {},
   "outputs": [],
   "source": [
    "# Finding Word Vectors\n",
    "vector=model.wv['war']"
   ]
  },
  {
   "cell_type": "code",
   "execution_count": 28,
   "metadata": {},
   "outputs": [
    {
     "data": {
      "text/plain": [
       "array([ 4.2176312e-03, -1.2295059e-03, -2.4574595e-03,  3.4221848e-03,\n",
       "        2.7861379e-03,  2.2888965e-04, -2.6659325e-03,  2.6754341e-03,\n",
       "       -3.1324748e-03,  4.2449934e-03, -3.6343024e-03, -2.9827505e-03,\n",
       "        3.2900364e-04,  2.7463597e-03,  2.5879941e-03, -3.9560031e-03,\n",
       "        4.1097696e-03, -1.0689928e-03,  4.8442432e-03, -3.6152068e-03,\n",
       "        2.2880819e-03, -4.5763152e-03, -3.2408857e-03,  1.8186015e-03,\n",
       "       -4.7997304e-04, -4.4716129e-05, -3.0621123e-03,  4.7330628e-03,\n",
       "        1.8264898e-04,  4.1612894e-03, -2.5031588e-03, -1.1081127e-03,\n",
       "       -4.9444833e-03,  2.3835716e-03, -1.0226957e-03, -4.8748292e-03,\n",
       "       -4.2417608e-03,  4.8276228e-03,  3.8542426e-03,  3.5822563e-04,\n",
       "       -3.2300369e-03,  1.0541748e-03,  4.4770839e-04, -4.8012193e-03,\n",
       "       -3.3456122e-03, -1.3945779e-03,  2.0746635e-03,  4.8162295e-03,\n",
       "       -1.4672676e-04, -3.7824502e-03,  1.6620870e-03,  3.0720031e-03,\n",
       "       -9.0490701e-04, -3.8622215e-03,  8.9956884e-04,  1.6475500e-03,\n",
       "        1.6437538e-03, -6.4017315e-04, -3.5507411e-03, -1.5036835e-03,\n",
       "        3.9676051e-03,  2.5169605e-03,  6.7521265e-04, -1.7032929e-03,\n",
       "       -2.6805597e-04, -1.2085025e-03, -2.8805363e-03, -3.9896499e-03,\n",
       "       -3.2181037e-03,  2.9462569e-03,  7.7144585e-05,  4.7576944e-03,\n",
       "        2.6210695e-05, -3.9301342e-03,  4.6881046e-03,  4.0473850e-03,\n",
       "       -3.1738130e-03, -1.2187620e-03, -1.1638019e-03,  1.4295781e-03,\n",
       "       -4.7325678e-03, -5.4363190e-04, -2.6737447e-03,  2.7350378e-03,\n",
       "       -3.2230611e-03, -2.9633783e-03, -4.3607033e-03, -2.7893020e-03,\n",
       "       -1.7750126e-03, -4.3418948e-03, -4.3126559e-03, -1.7312306e-03,\n",
       "       -1.8388772e-03,  3.5484519e-03, -2.9484546e-03,  1.3377821e-03,\n",
       "        3.7806397e-03,  1.8477885e-03, -2.6999859e-03,  2.8177074e-03],\n",
       "      dtype=float32)"
      ]
     },
     "execution_count": 28,
     "metadata": {},
     "output_type": "execute_result"
    }
   ],
   "source": [
    "vector"
   ]
  },
  {
   "cell_type": "code",
   "execution_count": 29,
   "metadata": {},
   "outputs": [],
   "source": [
    "# Most similar words\n",
    "similar=model.wv.most_similar('war')"
   ]
  },
  {
   "cell_type": "code",
   "execution_count": 30,
   "metadata": {},
   "outputs": [
    {
     "data": {
      "text/plain": [
       "[('independence', 0.2435224950313568),\n",
       " ('succeeded', 0.1949935406446457),\n",
       " ('respect', 0.1870402991771698),\n",
       " ('today', 0.17725002765655518),\n",
       " ('economic', 0.1487012654542923),\n",
       " ('alexander', 0.1369575411081314),\n",
       " ('opportunity', 0.1358935534954071),\n",
       " ('came', 0.13463039696216583),\n",
       " ('milestones', 0.12953516840934753),\n",
       " ('time', 0.11174072325229645)]"
      ]
     },
     "execution_count": 30,
     "metadata": {},
     "output_type": "execute_result"
    }
   ],
   "source": [
    "similar"
   ]
  },
  {
   "cell_type": "code",
   "execution_count": null,
   "metadata": {},
   "outputs": [],
   "source": []
  }
 ],
 "metadata": {
  "kernelspec": {
   "display_name": "Python 3",
   "language": "python",
   "name": "python3"
  },
  "language_info": {
   "codemirror_mode": {
    "name": "ipython",
    "version": 3
   },
   "file_extension": ".py",
   "mimetype": "text/x-python",
   "name": "python",
   "nbconvert_exporter": "python",
   "pygments_lexer": "ipython3",
   "version": "3.7.4"
  }
 },
 "nbformat": 4,
 "nbformat_minor": 2
}
